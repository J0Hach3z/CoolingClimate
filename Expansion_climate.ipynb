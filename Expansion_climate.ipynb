{
 "cells": [
  {
   "cell_type": "markdown",
   "id": "312bf89a-6d4b-4ca8-9a9a-58a54d1ea41f",
   "metadata": {},
   "source": [
    "# Preparation\n",
    "## Downloading necessary packages"
   ]
  },
  {
   "cell_type": "code",
   "execution_count": 56,
   "id": "ceb5ac04-e2e6-476f-9c9e-76f607e68054",
   "metadata": {},
   "outputs": [],
   "source": [
    "using JuDGE, JuMP, GLPK, CSV, DataFrames, Chain, Statistics"
   ]
  },
  {
   "cell_type": "markdown",
   "id": "f7582bad-4b0e-4585-88f5-a4663a06b09b",
   "metadata": {},
   "source": [
    "## Reading csv files"
   ]
  },
  {
   "cell_type": "code",
   "execution_count": 77,
   "id": "97182268-aa41-45bf-9cf2-810f27252f52",
   "metadata": {},
   "outputs": [
    {
     "name": "stdout",
     "output_type": "stream",
     "text": [
      "ok\n"
     ]
    }
   ],
   "source": [
    "\n",
    "data = CSV.read(\"degree_hours.csv\", DataFrame)\n",
    "periods = unique(data[!,\"period\"])\n",
    "paths =   unique(data[!,\"ssp\"])\n",
    "\n",
    "rows = []\n",
    "\n",
    "period = periods[1]\n",
    "ssp = '-'\n",
    "\n",
    "# Using Chain for more readable pipeline\n",
    "result = @chain data begin\n",
    "    filter(:period => ==(period), _)  # filter first period\n",
    "    groupby([:quantile,:variable])\n",
    "    combine(:count => mean)\n",
    "end\n",
    "\n",
    "push!(rows,Dict(\n",
    "    :period => period,\n",
    "    :ssp => \"-\",\n",
    "    :degree_hours => result\n",
    "))\n",
    "\n",
    "for period in periods[2:end]\n",
    "    for ssp in paths\n",
    "        # Using Chain for more readable pipeline\n",
    "        result = @chain data begin\n",
    "            filter(:period => ==(period), _) \n",
    "            filter(:ssp => ==(ssp), _) \n",
    "            select(:quantile, :variable, :count)\n",
    "        end \n",
    "        push!(rows,Dict(\n",
    "            :period => period,\n",
    "            :ssp => ssp,\n",
    "            :degree_hours => result\n",
    "        ))\n",
    "    end\n",
    "end\n",
    "println(\"ok\")\n"
   ]
  },
  {
   "cell_type": "code",
   "execution_count": 45,
   "id": "63bd5361-f69d-4bce-9070-519bc2054042",
   "metadata": {},
   "outputs": [
    {
     "name": "stdout",
     "output_type": "stream",
     "text": [
      "--1\n",
      "  --11\n",
      "    --111\n",
      "    --112\n",
      "  --12\n",
      "    --121\n",
      "    --122\n"
     ]
    }
   ],
   "source": [
    "\n",
    "mytree = narytree(2,2)\n",
    "JuDGE.print_tree(mytree)"
   ]
  },
  {
   "cell_type": "code",
   "execution_count": 3,
   "id": "883c909d-10ae-499f-8932-e0d7a2c3eb4c",
   "metadata": {},
   "outputs": [
    {
     "data": {
      "text/plain": [
       "Dict{AbstractTree, Vector{Int64}} with 7 entries:\n",
       "  Subtree rooted at node 12 containing 3 nodes => [20, 28, 12, 42, 12]\n",
       "  Leaf node 112                                => [15, 7, 20, 48, 12]\n",
       "  Subtree rooted at node 1 containing 7 nodes  => [32, 9, 9, 4, 8]\n",
       "  Leaf node 121                                => [10, 30, 54, 32, 30]\n",
       "  Leaf node 122                                => [32, 25, 24, 14, 24]\n",
       "  Leaf node 111                                => [40, 28, 9, 24, 10]\n",
       "  Subtree rooted at node 11 containing 3 nodes => [30, 12, 40, 10, 9]"
      ]
     },
     "execution_count": 3,
     "metadata": {},
     "output_type": "execute_result"
    }
   ],
   "source": [
    "invest_cost = Dict( zip( collect(mytree,order=:breadth), [15, 8, 8, 4, 4, 4, 4]) )\n",
    "\n",
    "\n",
    "item_volume = Dict( zip( collect(mytree,order=:breadth), [ [4, 3, 3, 1, 2],\n",
    "                                                           [5, 3, 4, 2, 1],\n",
    "                                                           [5, 4, 2, 7, 2],\n",
    "                                                           [5, 4, 1, 8, 2],\n",
    "                                                           [3, 1, 5, 6, 3],\n",
    "                                                           [2, 5, 8, 4, 6],\n",
    "                                                           [7, 5, 4, 2, 3] ]) )\n",
    "\n",
    "item_reward = Dict( zip( collect(mytree,order=:breadth), [ [32, 9, 9, 4, 8],\n",
    "                                                           [30, 12, 40, 10, 9],\n",
    "                                                           [20, 28, 12, 42, 12],\n",
    "                                                           [40, 28, 9, 24, 10],\n",
    "                                                           [15, 7, 20, 48, 12],\n",
    "                                                           [10, 30, 54, 32, 30],\n",
    "                                                           [32, 25, 24, 14, 24] ]) )"
   ]
  },
  {
   "cell_type": "code",
   "execution_count": 4,
   "id": "0dcaee2b-705f-4124-98ce-6876de80dbbc",
   "metadata": {},
   "outputs": [
    {
     "name": "stdout",
     "output_type": "stream",
     "text": [
      "--1 ([32, 9, 9, 4, 8])\n",
      "  --11 ([30, 12, 40, 10, 9])\n",
      "    --111 ([40, 28, 9, 24, 10])\n",
      "    --112 ([15, 7, 20, 48, 12])\n",
      "  --12 ([20, 28, 12, 42, 12])\n",
      "    --121 ([10, 30, 54, 32, 30])\n",
      "    --122 ([32, 25, 24, 14, 24])\n"
     ]
    }
   ],
   "source": [
    "\n",
    "JuDGE.print_tree(mytree,item_reward)"
   ]
  },
  {
   "cell_type": "code",
   "execution_count": 5,
   "id": "bec75aa6-1180-4233-aa75-36da54681ddd",
   "metadata": {},
   "outputs": [
    {
     "data": {
      "text/plain": [
       "6-element Vector{Int64}:\n",
       " 2\n",
       " 2\n",
       " 2\n",
       " 3\n",
       " 3\n",
       " 3"
      ]
     },
     "execution_count": 5,
     "metadata": {},
     "output_type": "execute_result"
    }
   ],
   "source": [
    "num_items = 5\n",
    "num_invest = 6\n",
    "initial_volume = 6\n",
    "invest_volume = [2,2,2,3,3,3]"
   ]
  },
  {
   "cell_type": "code",
   "execution_count": 20,
   "id": "3c0b8da5-1f7c-4cb6-9c04-fff5f91cf6e9",
   "metadata": {},
   "outputs": [
    {
     "data": {
      "text/plain": [
       "sub_problems (generic function with 1 method)"
      ]
     },
     "execution_count": 20,
     "metadata": {},
     "output_type": "execute_result"
    }
   ],
   "source": [
    "JuDGE_SP_Solver = optimizer_with_attributes(GLPK.Optimizer, \"msg_lev\" => 0, \"mip_gap\" => 0.0)\n",
    "function sub_problems(node)\n",
    "   sp = Model(JuDGE_SP_Solver)\n",
    "\n",
    "   @expansion(sp, invest[1:num_invest] <= 10, duration = 2)\n",
    "   @capitalcosts(sp, sum(invest[i]*invest_volume[i] for i=1:num_invest)*invest_cost[node])\n",
    "\n",
    "   @variable(sp, y[1:num_items], Bin)\n",
    "\n",
    "   @constraint(sp, BagExtension, sum(y[i]*item_volume[node][i] for i in 1:num_items) <=\n",
    "        initial_volume + sum(invest_volume[i] * invest[i] for i in 1:num_invest))\n",
    "\n",
    "   @objective(sp, Min, sum(-item_reward[node][i] * y[i] for i in 1:num_items))\n",
    "\n",
    "   return sp\n",
    "end"
   ]
  },
  {
   "cell_type": "code",
   "execution_count": 21,
   "id": "8bb571d0-e47e-46e8-994e-d4fda9d2fc7a",
   "metadata": {},
   "outputs": [
    {
     "name": "stdout",
     "output_type": "stream",
     "text": [
      "\n",
      "\u001b[F\u001b[38G\u001b[0K1\u001b[38G\u001b[0K"
     ]
    },
    {
     "name": "stderr",
     "output_type": "stream",
     "text": [
      "\u001b[36m\u001b[1m[ \u001b[22m\u001b[39m\u001b[36m\u001b[1mInfo: \u001b[22m\u001b[39mEstablishing JuDGE model for tree: Subtree rooted at node 1 containing 7 nodes\n",
      "\u001b[36m\u001b[1m[ \u001b[22m\u001b[39m\u001b[36m\u001b[1mInfo: \u001b[22m\u001b[39mBuilding JuMP Model for node \n"
     ]
    },
    {
     "name": "stdout",
     "output_type": "stream",
     "text": [
      "11\u001b[38G\u001b[0K111\u001b[38G\u001b[0K112\u001b[38G\u001b[0K12\u001b[38G\u001b[0K121\u001b[38G\u001b[0K122\u001b[28G\u001b[0Ks...Complete\n",
      "\u001b[F\u001b[39G\u001b[0KComplete\n",
      "\u001b[F\u001b[35G\u001b[0KComplete\n"
     ]
    },
    {
     "name": "stderr",
     "output_type": "stream",
     "text": [
      "\u001b[36m\u001b[1m[ \u001b[22m\u001b[39m\u001b[36m\u001b[1mInfo: \u001b[22m\u001b[39mChecking sub-problem format...\n",
      "\u001b[36m\u001b[1m[ \u001b[22m\u001b[39m\u001b[36m\u001b[1mInfo: \u001b[22m\u001b[39mBuilding master problem...\n"
     ]
    },
    {
     "data": {
      "text/plain": [
       "JuDGE Model with:\n",
       "  Tree: Subtree rooted at node 1 containing 7 nodes\n",
       "  Expansion variables: invest "
      ]
     },
     "execution_count": 21,
     "metadata": {},
     "output_type": "execute_result"
    }
   ],
   "source": [
    "JuDGE_MP_Solver = optimizer_with_attributes((method=GLPK.INTERIOR) -> GLPK.Optimizer(),\n",
    "\t\t\t\t\t\t\t\"msg_lev\" => 0, \"mip_gap\" => 0.0)\n",
    "judy = JuDGEModel(mytree, ConditionallyUniformProbabilities, sub_problems, JuDGE_MP_Solver)"
   ]
  },
  {
   "cell_type": "code",
   "execution_count": 22,
   "id": "37d69545-52fb-4818-860c-cc49f8131654",
   "metadata": {},
   "outputs": [
    {
     "name": "stdout",
     "output_type": "stream",
     "text": [
      "\n",
      "Relaxed ObjVal  |   Upper Bound   Lower Bound  |  Absolute Diff   Relative Diff  |  Fractional  |      Time     Iter\n",
      "  2.850000e+03  |  2.850000e+03          -Inf  |            Inf             NaN  |           0  |     0.002        1\n",
      "  1.484000e+03  |  1.484000e+03 -5.260000e+02  |   2.010000e+03    3.821293e+00  |           0  |     0.003        2\n",
      " -1.635000e+02  | -1.635000e+02 -5.260000e+02  |   3.625000e+02    6.891635e-01  |           0  |     0.003        3\n",
      " -1.840000e+02  | -1.840000e+02 -5.260000e+02  |   3.420000e+02    6.501901e-01  |           0  |     0.004        4\n",
      " -1.840000e+02  | -1.840000e+02 -5.260000e+02  |   3.420000e+02    6.501901e-01  |           0  |     0.004        5\n",
      " -1.840000e+02  | -1.840000e+02 -5.260000e+02  |   3.420000e+02    6.501901e-01  |           0  |     0.004        6\n",
      " -1.840000e+02  | -1.840000e+02 -5.260000e+02  |   3.420000e+02    6.501901e-01  |           0  |     0.005        7\n",
      " -1.915000e+02  | -1.915000e+02 -1.915000e+02  |  -1.136868e-13   -5.936649e-16  |           0  |     0.005        8\n",
      "\n",
      "Convergence criteria met.\n"
     ]
    },
    {
     "name": "stderr",
     "output_type": "stream",
     "text": [
      "\u001b[36m\u001b[1m[ \u001b[22m\u001b[39m\u001b[36m\u001b[1mInfo: \u001b[22m\u001b[39mSolving JuDGE model for tree: Subtree rooted at node 1 containing 7 nodes\n"
     ]
    }
   ],
   "source": [
    "JuDGE.solve(judy,termination=Termination(rlx_abstol=10^-7),verbose=1)"
   ]
  },
  {
   "cell_type": "code",
   "execution_count": null,
   "id": "c85f59c4-311d-4edf-999a-88a8747bcfb7",
   "metadata": {},
   "outputs": [],
   "source": []
  }
 ],
 "metadata": {
  "kernelspec": {
   "display_name": "Julia 1.11.2",
   "language": "julia",
   "name": "julia-1.11"
  },
  "language_info": {
   "file_extension": ".jl",
   "mimetype": "application/julia",
   "name": "julia",
   "version": "1.11.2"
  }
 },
 "nbformat": 4,
 "nbformat_minor": 5
}
